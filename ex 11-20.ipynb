{
 "cells": [
  {
   "cell_type": "markdown",
   "metadata": {},
   "source": [
    "#ex11\n",
    "\n",
    "Create a script that generates and prints a list of numbers from 1 to 20. Please do not create the list manually.\n"
   ]
  },
  {
   "cell_type": "code",
   "execution_count": 12,
   "metadata": {},
   "outputs": [
    {
     "name": "stdout",
     "output_type": "stream",
     "text": [
      "<class 'range'>\n",
      "[1, 2, 3, 4, 5, 6, 7, 8, 9, 10, 11, 12, 13, 14, 15, 16, 17, 18, 19, 20]\n"
     ]
    }
   ],
   "source": [
    "i =1\n",
    "nlist=range(1,21)\n",
    "print(type(nlist))\n",
    "print(list(nlist))"
   ]
  },
  {
   "cell_type": "markdown",
   "metadata": {},
   "source": [
    "Exercise 12 - More Ranges\n",
    "\n",
    "Question: Complete the script so that it produces the expected output. Please use my_range  as input data.\n",
    "\n",
    "my_range = range(1, 21)\n",
    " Expected output: \n",
    "\n",
    "[10, 20, 30, 40, 50, 60, 70, 80, 90, 100, 110, 120, 130, 140, 150, 160, 170, 180, 190, 200]"
   ]
  },
  {
   "cell_type": "code",
   "execution_count": 16,
   "metadata": {},
   "outputs": [
    {
     "name": "stdout",
     "output_type": "stream",
     "text": [
      "[10, 20, 30, 40, 50, 60, 70, 80, 90, 100, 110, 120, 130, 140, 150, 160, 170, 180, 190, 200]\n"
     ]
    }
   ],
   "source": [
    "my_range=range(1,21)\n",
    "nlist=list(i*10 for i in my_range)\n",
    "print(nlist)"
   ]
  },
  {
   "cell_type": "markdown",
   "metadata": {},
   "source": [
    "<H1>Exercise 13 - Ranges of Strings </h1>\n",
    "\n",
    "Question: Complete the script so it generates the expected output using my_range  as input data. Please note that the items of the expected list output are all strings.\n",
    "\n",
    "my_range = range(1, 21)\n",
    " Expected output: \n",
    "\n",
    "['1', '2', '3', '4', '5', '6', '7', '8', '9', '10', '11', '12', '13', '14', '15', '16', '17', '18', '19', '20']  "
   ]
  },
  {
   "cell_type": "code",
   "execution_count": 21,
   "metadata": {},
   "outputs": [
    {
     "name": "stdout",
     "output_type": "stream",
     "text": [
      "['1', '2', '3', '4', '5', '6', '7', '8', '9', '10', '11', '12', '13', '14', '15', '16', '17', '18', '19', '20']\n"
     ]
    }
   ],
   "source": [
    "my_range=range(1,21)\n",
    "s_list=[str(i) for i in my_range]\n",
    "print(s_list)"
   ]
  },
  {
   "cell_type": "markdown",
   "metadata": {},
   "source": [
    "<h1> exercise 14 removing duplicates</h1>\n",
    "<h2>Question: Complete the script so that it removes duplicate items from list a . </h2>\n",
    "\n",
    "a = [\"1\", 1, \"1\", 2]\n",
    "Expected output: \n",
    "\n",
    "  ['1', 2, 1] "
   ]
  },
  {
   "cell_type": "code",
   "execution_count": 36,
   "metadata": {},
   "outputs": [
    {
     "name": "stdout",
     "output_type": "stream",
     "text": [
      "[1, '1', 2]\n"
     ]
    }
   ],
   "source": [
    "a = [\"1\", 1, \"1\", 2] \n",
    "a=set(a)\n",
    "a=list(a)\n",
    "print(a)  # options 1 \n"
   ]
  },
  {
   "cell_type": "markdown",
   "metadata": {},
   "source": [
    "in above solution we will lose the order of squence, because sets are not a ordered sequence.\n",
    "tO maintain order of original list , we need to utilize dictionaries.\n",
    "\n",
    "Dictionary has a property that , keys can nt be repeated in a dictionary , hence if we can create a dictionary of elements of the given list , we will be able to remove duplicates and maintains order as well.\n",
    "\n",
    "we will use <b> OrderedDict </b> method from  <b>collections </b>."
   ]
  },
  {
   "cell_type": "code",
   "execution_count": 34,
   "metadata": {},
   "outputs": [
    {
     "name": "stdout",
     "output_type": "stream",
     "text": [
      "['1', 1, 2]\n"
     ]
    }
   ],
   "source": [
    "\n",
    "from collections import OrderedDict\n",
    "a = [\"1\", 1, \"1\", 2] \n",
    "\n",
    "n_list=list(OrderedDict.fromkeys(a))\n",
    "print(my_dict)"
   ]
  },
  {
   "cell_type": "markdown",
   "metadata": {},
   "source": [
    "<h1>Exercise 15 - Simple Dictionary </h1>\n",
    "\n",
    "Question: Create a dictionary that contains the keys a  and b  and their respective values 1  and 2 ."
   ]
  },
  {
   "cell_type": "code",
   "execution_count": 51,
   "metadata": {},
   "outputs": [
    {
     "name": "stdout",
     "output_type": "stream",
     "text": [
      "{'a': 1, 'b': 2}\n",
      "<class 'dict'>\n",
      "{'a': 1, 'b': 2}\n"
     ]
    }
   ],
   "source": [
    "my_dict={\"a\":1 , \"b\":2}\n",
    "print(my_dict)\n",
    "\n",
    "d1=dict([(\"a\",1),(\"b\",2)])\n",
    "\n",
    "print(type(d1))\n",
    "print(d1)"
   ]
  },
  {
   "cell_type": "code",
   "execution_count": 54,
   "metadata": {},
   "outputs": [
    {
     "name": "stdout",
     "output_type": "stream",
     "text": [
      "2\n"
     ]
    }
   ],
   "source": [
    "#Exercise 16 - Accessing Dictionary Items\n",
    "\n",
    "#Question: Please complete the script so that it prints out the value of key b .\n",
    "print(d1['b'])"
   ]
  },
  {
   "cell_type": "markdown",
   "metadata": {},
   "source": [
    "<h1>Exercise 17 - Dictionary Items Sum Up </h1>\n",
    "\n",
    "Question: Calculate the sum of the values of keys a  and b .\n",
    "\n",
    "d = {\"a\": 1, \"b\": 2, \"c\": 3}\n",
    "Expected output: \n",
    "\n",
    "3  "
   ]
  },
  {
   "cell_type": "code",
   "execution_count": 56,
   "metadata": {},
   "outputs": [
    {
     "name": "stdout",
     "output_type": "stream",
     "text": [
      "3\n"
     ]
    }
   ],
   "source": [
    "d = {\"a\": 1, \"b\": 2, \"c\": 3}\n",
    "s= d['a']+d['b']\n",
    "print(s)"
   ]
  },
  {
   "cell_type": "code",
   "execution_count": 58,
   "metadata": {},
   "outputs": [
    {
     "name": "stdout",
     "output_type": "stream",
     "text": [
      "{'a': 1, 'b': 2, 'c': 3, 'd': 4}\n"
     ]
    }
   ],
   "source": [
    "#Exercise 19 - Add Dictionary Key\n",
    "\n",
    "d['d']=4\n",
    "print(d)\n",
    "\n"
   ]
  },
  {
   "cell_type": "markdown",
   "metadata": {},
   "source": [
    "<h1>Exercise 20 - Apply Function to Dictionary Items </h1>\n",
    "\n",
    "Question: Calculate the sum of all dictionary values."
   ]
  },
  {
   "cell_type": "code",
   "execution_count": 62,
   "metadata": {},
   "outputs": [
    {
     "name": "stdout",
     "output_type": "stream",
     "text": [
      "10\n"
     ]
    }
   ],
   "source": [
    "s=0\n",
    "for ele in d:\n",
    "    s = s+d[ele]\n",
    "print(s)"
   ]
  },
  {
   "cell_type": "code",
   "execution_count": 76,
   "metadata": {},
   "outputs": [
    {
     "name": "stdout",
     "output_type": "stream",
     "text": [
      "10\n",
      "dict_keys(['a', 'b', 'c', 'd'])\n"
     ]
    }
   ],
   "source": [
    "#alternate solution \n",
    "\n",
    "nlist=d.values()\n",
    "print(sum(nlist))\n",
    "\n",
    "print(d.keys())"
   ]
  }
 ],
 "metadata": {
  "kernelspec": {
   "display_name": "Python 3",
   "language": "python",
   "name": "python3"
  },
  "language_info": {
   "codemirror_mode": {
    "name": "ipython",
    "version": 3
   },
   "file_extension": ".py",
   "mimetype": "text/x-python",
   "name": "python",
   "nbconvert_exporter": "python",
   "pygments_lexer": "ipython3",
   "version": "3.7.4"
  }
 },
 "nbformat": 4,
 "nbformat_minor": 2
}
