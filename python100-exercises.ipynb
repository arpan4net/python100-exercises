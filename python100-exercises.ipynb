{
 "cells": [
  {
   "cell_type": "markdown",
   "metadata": {},
   "source": [
    "exercise 1\n",
    "\n",
    "Question: Let's start with easy things first. What will the following code produce?\n",
    "\n",
    "a = 2\n",
    "a = 4\n",
    "a = 6\n",
    "print(a + a + a)"
   ]
  },
  {
   "cell_type": "code",
   "execution_count": 2,
   "metadata": {},
   "outputs": [
    {
     "name": "stdout",
     "output_type": "stream",
     "text": [
      "18\n"
     ]
    }
   ],
   "source": [
    "a = 2\n",
    "a = 4\n",
    "a = 6\n",
    "print(a + a + a)"
   ]
  },
  {
   "cell_type": "markdown",
   "metadata": {},
   "source": [
    "Question: What's wrong with the following script?\n",
    "\n",
    "a = 1\n",
    "_a = 2\n",
    "_a2 = 3\n",
    "2a = 4\n"
   ]
  },
  {
   "cell_type": "code",
   "execution_count": 5,
   "metadata": {},
   "outputs": [],
   "source": [
    "a = 1\n",
    "_a = 2\n",
    "_a2 = 3\n",
    "a2 = 4"
   ]
  },
  {
   "cell_type": "markdown",
   "metadata": {},
   "source": [
    "Question: Executing the code will throw an error. Can you explain why?\n",
    "\n",
    "a = 1\n",
    "b = 2\n",
    "print(a == b)\n",
    "print(b == c)"
   ]
  },
  {
   "cell_type": "code",
   "execution_count": 10,
   "metadata": {},
   "outputs": [
    {
     "name": "stdout",
     "output_type": "stream",
     "text": [
      "False\n",
      "False\n"
     ]
    }
   ],
   "source": [
    "a = 1\n",
    "b = 2\n",
    "print(a == b)\n",
    "print(b == a)"
   ]
  },
  {
   "cell_type": "markdown",
   "metadata": {},
   "source": [
    "exercise 4 - typeerror\n",
    "Fix the last line so that it outputs the sum of 1 and 2. Please do not change the first two lines. Only the last one.\n",
    "\n",
    "a = \"1\"\n",
    "b = 2\n",
    "print(a + b)\n"
   ]
  },
  {
   "cell_type": "code",
   "execution_count": 6,
   "metadata": {},
   "outputs": [
    {
     "name": "stdout",
     "output_type": "stream",
     "text": [
      "3\n"
     ]
    }
   ],
   "source": [
    "a = \"1\"\n",
    "b = 2\n",
    "print(int(a) + b)"
   ]
  },
  {
   "cell_type": "markdown",
   "metadata": {},
   "source": [
    "Exercise 5 - Sequence Indexing\n",
    "\n",
    "\n",
    "Question: Complete the script so that it prints out the second item of the list.\n",
    "\n",
    "letters = [\"a\", \"b\", \"c\", \"d\", \"e\", \"f\", \"g\", \"h\", \"i\", \"j\"]\n",
    "Expected output: b"
   ]
  },
  {
   "cell_type": "code",
   "execution_count": 13,
   "metadata": {},
   "outputs": [
    {
     "name": "stdout",
     "output_type": "stream",
     "text": [
      "second item of the list is :  b\n"
     ]
    }
   ],
   "source": [
    "\n",
    "letters = [\"a\", \"b\", \"c\", \"d\", \"e\", \"f\", \"g\", \"h\", \"i\", \"j\"]\n",
    "print(\"second item of the list is : \",letters[1])"
   ]
  },
  {
   "cell_type": "markdown",
   "metadata": {},
   "source": [
    "Exercise 6 - Sequence Slicing\n",
    "\n",
    "Question: Please complete the script so that it prints out a list slice containing items d , e , and f .\n",
    "\n",
    "letters = [\"a\", \"b\", \"c\", \"d\", \"e\", \"f\", \"g\", \"h\", \"i\", \"j\"]\n",
    "Expected output: \n",
    "\n",
    "['d', 'e', 'f'] "
   ]
  },
  {
   "cell_type": "code",
   "execution_count": 15,
   "metadata": {},
   "outputs": [
    {
     "name": "stdout",
     "output_type": "stream",
     "text": [
      "['d', 'e', 'f']\n"
     ]
    }
   ],
   "source": [
    "letters = [\"a\", \"b\", \"c\", \"d\", \"e\", \"f\", \"g\", \"h\", \"i\", \"j\"]\n",
    "print(letters[3:6])"
   ]
  },
  {
   "cell_type": "code",
   "execution_count": 16,
   "metadata": {},
   "outputs": [
    {
     "name": "stdout",
     "output_type": "stream",
     "text": [
      "['a', 'b', 'c']\n",
      "i\n"
     ]
    }
   ],
   "source": [
    "#Please complete the script so that it prints out the first three items\n",
    "#of list letters.\n",
    "print(letters[:3])\n",
    "\n",
    "\n",
    "#EX 8 - negative slicing\n",
    "#Complete the script so that it prints out letter i  using negative indexing.\n",
    "print(letters[-2])"
   ]
  },
  {
   "cell_type": "code",
   "execution_count": 17,
   "metadata": {},
   "outputs": [
    {
     "name": "stdout",
     "output_type": "stream",
     "text": [
      "['h', 'i', 'j']\n"
     ]
    }
   ],
   "source": [
    "# exercise 9 negative slicing\n",
    "#Complete the script so that it prints out a list slice containing the last three items of list letters .\n",
    "    \n",
    "print(letters[-3:])"
   ]
  },
  {
   "cell_type": "markdown",
   "metadata": {},
   "source": [
    "#Exercise 10 - Sequence Item Picking\n",
    "\n",
    "Question: Complete the script so that it prints out a list slice containing letters a, c, e, g, and i. \n",
    "\n",
    "letters = [\"a\", \"b\", \"c\", \"d\", \"e\", \"f\", \"g\", \"h\", \"i\", \"j\"]"
   ]
  },
  {
   "cell_type": "code",
   "execution_count": 19,
   "metadata": {},
   "outputs": [
    {
     "name": "stdout",
     "output_type": "stream",
     "text": [
      "['a', 'c', 'e', 'g', 'i']\n"
     ]
    }
   ],
   "source": [
    "print(letters[::2])"
   ]
  }
 ],
 "metadata": {
  "kernelspec": {
   "display_name": "Python 3",
   "language": "python",
   "name": "python3"
  },
  "language_info": {
   "codemirror_mode": {
    "name": "ipython",
    "version": 3
   },
   "file_extension": ".py",
   "mimetype": "text/x-python",
   "name": "python",
   "nbconvert_exporter": "python",
   "pygments_lexer": "ipython3",
   "version": "3.7.4"
  }
 },
 "nbformat": 4,
 "nbformat_minor": 2
}
