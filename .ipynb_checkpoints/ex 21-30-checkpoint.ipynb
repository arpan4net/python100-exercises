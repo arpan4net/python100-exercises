{
 "cells": [
  {
   "cell_type": "markdown",
   "metadata": {},
   "source": [
    "<H1>Dictionary Filtering </h1>\n",
    "Filter the dictionary by removing all items with a value of greater than 1.\n",
    "\n",
    "d = {\"a\": 1, \"b\": 2, \"c\": 3}\n",
    "Expected output: \n",
    "\n",
    "{'a': 1} \n",
    "    "
   ]
  },
  {
   "cell_type": "code",
   "execution_count": 17,
   "metadata": {},
   "outputs": [
    {
     "name": "stdout",
     "output_type": "stream",
     "text": [
      "dict_keys(['a', 'b', 'c', 'd'])\n",
      "{'a': 1, 'b': 2}\n"
     ]
    }
   ],
   "source": [
    "d= {\"a\": 1, \"b\": 2, \"c\": 3,\"d\":4}\n",
    "nd={}\n",
    "print(d.keys())\n",
    "for ele in d.keys():\n",
    "    if d[ele]<=2:\n",
    "         nd[ele]=d[ele]\n",
    "\n",
    "print(nd)"
   ]
  },
  {
   "cell_type": "code",
   "execution_count": 26,
   "metadata": {},
   "outputs": [
    {
     "name": "stdout",
     "output_type": "stream",
     "text": [
      "{'b': 2, 'a': 1}\n",
      "{'b': 2, 'a': 1}\n"
     ]
    },
    {
     "data": {
      "text/plain": [
       "dict"
      ]
     },
     "execution_count": 26,
     "metadata": {},
     "output_type": "execute_result"
    }
   ],
   "source": [
    "#list coomprehension method\n",
    "\n",
    "print(d)\n",
    "d=dict({(ele,d[ele]) for ele in d.keys() if d[ele]<=2})\n",
    "\n",
    "print(d)\n",
    "\n",
    "type(d)"
   ]
  },
  {
   "cell_type": "markdown",
   "metadata": {},
   "source": [
    "<h1> formated output in dictionary </h1>\n",
    "Create a dictionary of keys a, b, c where each key has as value a list from 1 to 10, 11 to 20, and 21 to 30 respectively. Then print out the dictionary in a nice format."
   ]
  },
  {
   "cell_type": "code",
   "execution_count": 47,
   "metadata": {},
   "outputs": [
    {
     "name": "stdout",
     "output_type": "stream",
     "text": [
      "{'a': [1, 2, 3, 4, 5, 6, 7, 8, 9, 10],\n",
      " 'b': [11, 12, 13, 14, 15, 16, 17, 18, 19, 20],\n",
      " 'c': [21, 22, 23, 24, 25, 26, 27, 28, 29, 30]}\n",
      "<class 'dict'>\n"
     ]
    }
   ],
   "source": [
    "from pprint import pprint\n",
    "k=['a','b','c']\n",
    "d={'a':[i for i in range(1,11)],'b':[i for i in range(11,21)],'c':[i for i in range(21,31)]}\n",
    "dir(pprint)\n",
    "pprint(d)\n",
    "pprint(type(d))"
   ]
  },
  {
   "cell_type": "markdown",
   "metadata": {},
   "source": [
    "<h1>Exercise 23 - Multilevel Indexing</h1>\n",
    "\n",
    "Question: Access the third value of key b  from the dictionary."
   ]
  },
  {
   "cell_type": "code",
   "execution_count": 50,
   "metadata": {},
   "outputs": [
    {
     "name": "stdout",
     "output_type": "stream",
     "text": [
      "13\n"
     ]
    }
   ],
   "source": [
    "print(d['b'][2])\n"
   ]
  },
  {
   "cell_type": "markdown",
   "metadata": {},
   "source": [
    "<h1>Exercise 24 - Iterate Dictionary</h1>\n",
    "\n",
    "Question: Please complete the script so that it prints out the expected output.\n",
    "\n",
    "d = dict(a = list(range(1, 11)), b = list(range(11, 21)), c = list(range(21, 31)))\n",
    "\n",
    "Expected output: \n",
    "\n",
    "b has value [11, 12, 13, 14, 15, 16, 17, 18, 19, 20]\n",
    "c has value [21, 22, 23, 24, 25, 26, 27, 28, 29, 30]\n",
    "a has value [1, 2, 3, 4, 5, 6, 7, 8, 9, 10]\n"
   ]
  },
  {
   "cell_type": "code",
   "execution_count": 69,
   "metadata": {},
   "outputs": [
    {
     "name": "stdout",
     "output_type": "stream",
     "text": [
      "a has value [1, 2, 3, 4, 5, 6, 7, 8, 9, 10]\n",
      "b has value [11, 12, 13, 14, 15, 16, 17, 18, 19, 20]\n",
      "c has value [21, 22, 23, 24, 25, 26, 27, 28, 29, 30]\n"
     ]
    }
   ],
   "source": [
    "d= dict(a = list(range(1, 11)), b = list(range(11, 21)), c = list(range(21, 31))) \n",
    "\n",
    "for key,value in d.items():\n",
    "    print(\"{} has value {}\".format(key,value))\n"
   ]
  },
  {
   "cell_type": "markdown",
   "metadata": {},
   "source": [
    "<h1> printing letters A to Z  </h1>"
   ]
  },
  {
   "cell_type": "code",
   "execution_count": 83,
   "metadata": {},
   "outputs": [
    {
     "name": "stdout",
     "output_type": "stream",
     "text": [
      "abcdefghijklmnopqrstuvwxyz\n"
     ]
    }
   ],
   "source": [
    "import string\n",
    "letter='a'\n",
    "print(string.ascii_lowercase)"
   ]
  }
 ],
 "metadata": {
  "kernelspec": {
   "display_name": "Python 3",
   "language": "python",
   "name": "python3"
  },
  "language_info": {
   "codemirror_mode": {
    "name": "ipython",
    "version": 3
   },
   "file_extension": ".py",
   "mimetype": "text/x-python",
   "name": "python",
   "nbconvert_exporter": "python",
   "pygments_lexer": "ipython3",
   "version": "3.7.4"
  }
 },
 "nbformat": 4,
 "nbformat_minor": 2
}
